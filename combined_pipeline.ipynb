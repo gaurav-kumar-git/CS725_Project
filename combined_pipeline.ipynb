{
 "cells": [
  {
   "cell_type": "code",
   "execution_count": null,
   "metadata": {},
   "outputs": [],
   "source": [
    "# %pip install numpy pandas scikit-learn xgboost matplotlib seaborn\n",
    "# %pip install joblib\n",
    "\n",
    "# Import necessary libraries\n",
    "import pandas as pd\n",
    "import numpy as np\n",
    "import joblib\n",
    "import os\n",
    "\n",
    "# For data preprocessing\n",
    "from sklearn.model_selection import train_test_split, GridSearchCV, RandomizedSearchCV\n",
    "from sklearn.preprocessing import StandardScaler\n",
    "from sklearn.metrics import mean_absolute_percentage_error\n",
    "from sklearn.model_selection import PredefinedSplit\n",
    "\n",
    "# For regression models\n",
    "from sklearn.linear_model import Lasso, Ridge, ElasticNet\n",
    "from sklearn.svm import SVR\n",
    "from sklearn.ensemble import RandomForestRegressor, GradientBoostingRegressor, AdaBoostRegressor, RandomForestClassifier\n",
    "from sklearn.neighbors import KNeighborsRegressor\n",
    "from xgboost import XGBRegressor\n",
    "\n",
    "# For evaluation\n",
    "from sklearn.metrics import mean_squared_error, mean_absolute_error, r2_score\n",
    "\n",
    "# For visualization\n",
    "import matplotlib.pyplot as plt\n",
    "import seaborn as sns\n",
    "\n",
    "# Suppress warnings\n",
    "import warnings\n",
    "warnings.filterwarnings('ignore')\n",
    "\n",
    "\n",
    "from sklearn.preprocessing import StandardScaler\n",
    "from sklearn.decomposition import PCA\n",
    "from category_encoders import TargetEncoder\n"
   ]
  },
  {
   "cell_type": "code",
   "execution_count": 3,
   "metadata": {},
   "outputs": [
    {
     "data": {
      "text/html": [
       "<div>\n",
       "<style scoped>\n",
       "    .dataframe tbody tr th:only-of-type {\n",
       "        vertical-align: middle;\n",
       "    }\n",
       "\n",
       "    .dataframe tbody tr th {\n",
       "        vertical-align: top;\n",
       "    }\n",
       "\n",
       "    .dataframe thead th {\n",
       "        text-align: right;\n",
       "    }\n",
       "</style>\n",
       "<table border=\"1\" class=\"dataframe\">\n",
       "  <thead>\n",
       "    <tr style=\"text-align: right;\">\n",
       "      <th></th>\n",
       "      <th>Unnamed: 0</th>\n",
       "      <th>popularity</th>\n",
       "      <th>duration_ms</th>\n",
       "      <th>explicit</th>\n",
       "      <th>danceability</th>\n",
       "      <th>energy</th>\n",
       "      <th>key</th>\n",
       "      <th>loudness</th>\n",
       "      <th>mode</th>\n",
       "      <th>speechiness</th>\n",
       "      <th>acousticness</th>\n",
       "      <th>instrumentalness</th>\n",
       "      <th>liveness</th>\n",
       "      <th>valence</th>\n",
       "      <th>tempo</th>\n",
       "      <th>time_signature</th>\n",
       "      <th>track_genre</th>\n",
       "    </tr>\n",
       "  </thead>\n",
       "  <tbody>\n",
       "    <tr>\n",
       "      <th>0</th>\n",
       "      <td>0</td>\n",
       "      <td>73</td>\n",
       "      <td>230666</td>\n",
       "      <td>0</td>\n",
       "      <td>0.676</td>\n",
       "      <td>0.4610</td>\n",
       "      <td>1</td>\n",
       "      <td>-6.746</td>\n",
       "      <td>0</td>\n",
       "      <td>0.1430</td>\n",
       "      <td>0.0322</td>\n",
       "      <td>0.000001</td>\n",
       "      <td>0.3580</td>\n",
       "      <td>0.715</td>\n",
       "      <td>87.917</td>\n",
       "      <td>4</td>\n",
       "      <td>acoustic</td>\n",
       "    </tr>\n",
       "    <tr>\n",
       "      <th>1</th>\n",
       "      <td>1</td>\n",
       "      <td>55</td>\n",
       "      <td>149610</td>\n",
       "      <td>0</td>\n",
       "      <td>0.420</td>\n",
       "      <td>0.1660</td>\n",
       "      <td>1</td>\n",
       "      <td>-17.235</td>\n",
       "      <td>1</td>\n",
       "      <td>0.0763</td>\n",
       "      <td>0.9240</td>\n",
       "      <td>0.000006</td>\n",
       "      <td>0.1010</td>\n",
       "      <td>0.267</td>\n",
       "      <td>77.489</td>\n",
       "      <td>4</td>\n",
       "      <td>acoustic</td>\n",
       "    </tr>\n",
       "    <tr>\n",
       "      <th>2</th>\n",
       "      <td>2</td>\n",
       "      <td>57</td>\n",
       "      <td>210826</td>\n",
       "      <td>0</td>\n",
       "      <td>0.438</td>\n",
       "      <td>0.3590</td>\n",
       "      <td>0</td>\n",
       "      <td>-9.734</td>\n",
       "      <td>1</td>\n",
       "      <td>0.0557</td>\n",
       "      <td>0.2100</td>\n",
       "      <td>0.000000</td>\n",
       "      <td>0.1170</td>\n",
       "      <td>0.120</td>\n",
       "      <td>76.332</td>\n",
       "      <td>4</td>\n",
       "      <td>acoustic</td>\n",
       "    </tr>\n",
       "    <tr>\n",
       "      <th>3</th>\n",
       "      <td>3</td>\n",
       "      <td>71</td>\n",
       "      <td>201933</td>\n",
       "      <td>0</td>\n",
       "      <td>0.266</td>\n",
       "      <td>0.0596</td>\n",
       "      <td>0</td>\n",
       "      <td>-18.515</td>\n",
       "      <td>1</td>\n",
       "      <td>0.0363</td>\n",
       "      <td>0.9050</td>\n",
       "      <td>0.000071</td>\n",
       "      <td>0.1320</td>\n",
       "      <td>0.143</td>\n",
       "      <td>181.740</td>\n",
       "      <td>3</td>\n",
       "      <td>acoustic</td>\n",
       "    </tr>\n",
       "    <tr>\n",
       "      <th>4</th>\n",
       "      <td>4</td>\n",
       "      <td>82</td>\n",
       "      <td>198853</td>\n",
       "      <td>0</td>\n",
       "      <td>0.618</td>\n",
       "      <td>0.4430</td>\n",
       "      <td>2</td>\n",
       "      <td>-9.681</td>\n",
       "      <td>1</td>\n",
       "      <td>0.0526</td>\n",
       "      <td>0.4690</td>\n",
       "      <td>0.000000</td>\n",
       "      <td>0.0829</td>\n",
       "      <td>0.167</td>\n",
       "      <td>119.949</td>\n",
       "      <td>4</td>\n",
       "      <td>acoustic</td>\n",
       "    </tr>\n",
       "  </tbody>\n",
       "</table>\n",
       "</div>"
      ],
      "text/plain": [
       "   Unnamed: 0  popularity  duration_ms  explicit  danceability  energy  key  \\\n",
       "0           0          73       230666         0         0.676  0.4610    1   \n",
       "1           1          55       149610         0         0.420  0.1660    1   \n",
       "2           2          57       210826         0         0.438  0.3590    0   \n",
       "3           3          71       201933         0         0.266  0.0596    0   \n",
       "4           4          82       198853         0         0.618  0.4430    2   \n",
       "\n",
       "   loudness  mode  speechiness  acousticness  instrumentalness  liveness  \\\n",
       "0    -6.746     0       0.1430        0.0322          0.000001    0.3580   \n",
       "1   -17.235     1       0.0763        0.9240          0.000006    0.1010   \n",
       "2    -9.734     1       0.0557        0.2100          0.000000    0.1170   \n",
       "3   -18.515     1       0.0363        0.9050          0.000071    0.1320   \n",
       "4    -9.681     1       0.0526        0.4690          0.000000    0.0829   \n",
       "\n",
       "   valence    tempo  time_signature track_genre  \n",
       "0    0.715   87.917               4    acoustic  \n",
       "1    0.267   77.489               4    acoustic  \n",
       "2    0.120   76.332               4    acoustic  \n",
       "3    0.143  181.740               3    acoustic  \n",
       "4    0.167  119.949               4    acoustic  "
      ]
     },
     "execution_count": 3,
     "metadata": {},
     "output_type": "execute_result"
    }
   ],
   "source": [
    "df = pd.read_csv('spotify_tracks_dataset_processed.csv')\n",
    "df.head()"
   ]
  },
  {
   "cell_type": "code",
   "execution_count": 4,
   "metadata": {},
   "outputs": [
    {
     "data": {
      "text/plain": [
       "['pca_model.joblib']"
      ]
     },
     "execution_count": 4,
     "metadata": {},
     "output_type": "execute_result"
    }
   ],
   "source": [
    "# Create a new target column for classification\n",
    "df['popularity_class'] = df['popularity'].apply(lambda x: 0 if x <= 70 else 1)\n",
    "\n",
    "# Separate features and target for classification\n",
    "X = df.drop(['popularity', 'popularity_class'], axis=1)  # Do not use popularity for training\n",
    "y = df[['popularity', 'popularity_class']]  # Target variable for (Classification + Regresssion)\n",
    "y1 = df['popularity_class'] # Target variable for Classification\n",
    "\n",
    "# Train-test split for just classification\n",
    "X_train, X_test, y_train, y_test = train_test_split(X, y, test_size=0.2, random_state=42)\n",
    "y1_train = y_train['popularity_class']\n",
    "y1_test = y_test['popularity_class']\n",
    "\n",
    "# Target encoding for 'track_genre'\n",
    "encoder = TargetEncoder(cols=['track_genre'])\n",
    "X_train['track_genre'] = encoder.fit_transform(X_train['track_genre'], y1_train)\n",
    "X_test['track_genre'] = encoder.transform(X_test['track_genre'])\n",
    "\n",
    "# Drop 'Unnamed: 0' column\n",
    "X_train.drop(['Unnamed: 0'], axis=1, inplace=True)\n",
    "X_test.drop(['Unnamed: 0'], axis=1, inplace=True)\n",
    "\n",
    "# Feature scaling\n",
    "scaler = StandardScaler()\n",
    "X_train_scaled = scaler.fit_transform(X_train)\n",
    "X_test_scaled = scaler.transform(X_test)\n",
    "\n",
    "# Apply PCA\n",
    "pca = PCA(n_components=0.95, random_state=42)  # Retain 95% of the variance\n",
    "X_train_pca = pca.fit_transform(X_train_scaled)\n",
    "X_test_pca = pca.transform(X_test_scaled)\n",
    "\n",
    "joblib.dump(pca, 'pca_model.joblib')"
   ]
  },
  {
   "cell_type": "code",
   "execution_count": 5,
   "metadata": {},
   "outputs": [
    {
     "data": {
      "text/plain": [
       "(57556, 13)"
      ]
     },
     "execution_count": 5,
     "metadata": {},
     "output_type": "execute_result"
    }
   ],
   "source": [
    "X_train_pca.shape"
   ]
  },
  {
   "cell_type": "code",
   "execution_count": 6,
   "metadata": {},
   "outputs": [
    {
     "data": {
      "text/plain": [
       "44015    1\n",
       "44107    1\n",
       "36443    1\n",
       "44058    1\n",
       "22050    1\n",
       "        ..\n",
       "15069    1\n",
       "33238    1\n",
       "14981    1\n",
       "33875    1\n",
       "2161     1\n",
       "Name: popularity_class, Length: 472, dtype: int64"
      ]
     },
     "execution_count": 6,
     "metadata": {},
     "output_type": "execute_result"
    }
   ],
   "source": [
    "y1_test[y1_test == 1]"
   ]
  },
  {
   "cell_type": "code",
   "execution_count": 13,
   "metadata": {},
   "outputs": [],
   "source": [
    "from scipy.stats import randint\n",
    "param_dist = {\n",
    "    'n_estimators': randint(100, 1000),            # Number of trees between 100 and 1000\n",
    "    'max_depth': randint(5, 50),                   # Maximum depth between 5 and 50\n",
    "    'min_samples_split': randint(2, 11),           # Minimum samples split between 2 and 10\n",
    "    'min_samples_leaf': randint(1, 11),            # Minimum samples leaf between 1 and 10\n",
    "    'max_features': ['auto', 'sqrt', 'log2'],      # Categorical options\n",
    "    'class_weight': [{0:1, 1:10}]     # Emphasize class 1 or balanced\n",
    "}"
   ]
  },
  {
   "cell_type": "code",
   "execution_count": 14,
   "metadata": {},
   "outputs": [],
   "source": [
    "from sklearn.metrics import accuracy_score, precision_score, recall_score, f1_score\n"
   ]
  },
  {
   "cell_type": "code",
   "execution_count": null,
   "metadata": {},
   "outputs": [
    {
     "name": "stdout",
     "output_type": "stream",
     "text": [
      "\n",
      "Starting Randomized Search...\n",
      "Fitting 1 folds for each of 500 candidates, totalling 500 fits\n",
      "\n",
      "Best Parameters Found:\n",
      "{'class_weight': {0: 1, 1: 10}, 'max_depth': 39, 'max_features': 'log2', 'min_samples_leaf': 1, 'min_samples_split': 6, 'n_estimators': 589}\n"
     ]
    }
   ],
   "source": [
    "from sklearn.model_selection import StratifiedKFold\n",
    "\n",
    "# 10. Define cross-validation strategy\n",
    "cv_strategy = StratifiedKFold(n_splits=5, shuffle=True, random_state=42)\n",
    "\n",
    "# 11. Initialize RandomizedSearchCV\n",
    "random_search = RandomizedSearchCV(\n",
    "    estimator=RandomForestClassifier(random_state=42),\n",
    "    param_distributions=param_dist,\n",
    "    n_iter=1500,                # Number of parameter settings sampled\n",
    "    cv=[(slice(None), slice(None))],\n",
    "    scoring='f1',              # Focused on F1-score for balanced precision and recall\n",
    "    random_state=42,\n",
    "    n_jobs=-1,                 # Utilize all available cores\n",
    "    verbose=2,                 # Verbosity mode\n",
    "    return_train_score=True\n",
    ")\n",
    "\n",
    "# 12. Fit RandomizedSearchCV to the training data\n",
    "print(\"\\nStarting Randomized Search...\")\n",
    "random_search.fit(X_train_pca, y1_train)\n",
    "\n",
    "# 13. Retrieve the best parameters and estimator\n",
    "best_params = random_search.best_params_\n",
    "print(\"\\nBest Parameters Found:\")\n",
    "print(best_params)\n",
    "\n",
    "best_rf_classifier = random_search.best_estimator_"
   ]
  },
  {
   "cell_type": "code",
   "execution_count": 17,
   "metadata": {},
   "outputs": [],
   "source": [
    "from joblib import dump, load"
   ]
  },
  {
   "cell_type": "code",
   "execution_count": 18,
   "metadata": {},
   "outputs": [
    {
     "name": "stdout",
     "output_type": "stream",
     "text": [
      "Train Accuracy: 0.9996, Train Precision: 0.9996, Train Recall: 0.9996, Train F1 Score: 0.9996\n",
      "Test Accuracy: 0.9671, Test Precision: 0.9533, Test Recall: 0.9671, Test F1 Score: 0.9544\n"
     ]
    }
   ],
   "source": [
    "# rf_classifier = RandomForestClassifier(**best_params)\n",
    "\n",
    "# 4. Train the Model\n",
    "# rf_classifier.fit(X_train_pca, y1_train)\n",
    "\n",
    "# 5. Make Predictions\n",
    "y_train_pred = best_rf_classifier.predict(X_train_pca)\n",
    "y_test_pred = best_rf_classifier.predict(X_test_pca)\n",
    "    \n",
    "# Calculate evaluation metrics for classification\n",
    "train_accuracy = accuracy_score(y1_train, y_train_pred)\n",
    "train_precision = precision_score(y1_train, y_train_pred, average='weighted', zero_division=0)\n",
    "train_recall = recall_score(y1_train, y_train_pred, average='weighted', zero_division=0)\n",
    "train_f1 = f1_score(y1_train, y_train_pred, average='weighted', zero_division=0)\n",
    "\n",
    "test_accuracy = accuracy_score(y1_test, y_test_pred)\n",
    "test_precision = precision_score(y1_test, y_test_pred, average='weighted', zero_division=0)\n",
    "test_recall = recall_score(y1_test, y_test_pred, average='weighted', zero_division=0)\n",
    "test_f1 = f1_score(y1_test, y_test_pred, average='weighted', zero_division=0)\n",
    "\n",
    "print(f\"Train Accuracy: {train_accuracy:.4f}, Train Precision: {train_precision:.4f}, Train Recall: {train_recall:.4f}, Train F1 Score: {train_f1:.4f}\")\n",
    "print(f\"Test Accuracy: {test_accuracy:.4f}, Test Precision: {test_precision:.4f}, Test Recall: {test_recall:.4f}, Test F1 Score: {test_f1:.4f}\")\n"
   ]
  },
  {
   "cell_type": "code",
   "execution_count": 19,
   "metadata": {},
   "outputs": [
    {
     "data": {
      "text/plain": [
       "['classifier.joblib']"
      ]
     },
     "execution_count": 19,
     "metadata": {},
     "output_type": "execute_result"
    }
   ],
   "source": [
    "dump(best_rf_classifier, 'classifier.joblib')"
   ]
  },
  {
   "cell_type": "code",
   "execution_count": 20,
   "metadata": {},
   "outputs": [
    {
     "data": {
      "text/plain": [
       "14389"
      ]
     },
     "execution_count": 20,
     "metadata": {},
     "output_type": "execute_result"
    }
   ],
   "source": [
    "len(y_test_pred)"
   ]
  },
  {
   "cell_type": "code",
   "execution_count": 21,
   "metadata": {},
   "outputs": [],
   "source": [
    "# Convert X_test_pca to a DataFrame if it's not already\n",
    "X_test_pca_df = pd.DataFrame(X_test_pca)\n",
    "\n",
    "# Create a DataFrame with predicted and actual labels\n",
    "test_results = X_test_pca_df.copy()\n",
    "test_results['Predicted_Class'] = y_test_pred\n",
    "test_results['Actual_Popularity'] = y_test['popularity'].values\n",
    "\n",
    "filtered_results = test_results[test_results['Predicted_Class'] == 1]"
   ]
  },
  {
   "cell_type": "code",
   "execution_count": 22,
   "metadata": {},
   "outputs": [
    {
     "name": "stdout",
     "output_type": "stream",
     "text": [
      "<class 'pandas.core.frame.DataFrame'>\n",
      "Index: 55 entries, 143 to 14205\n",
      "Data columns (total 15 columns):\n",
      " #   Column             Non-Null Count  Dtype  \n",
      "---  ------             --------------  -----  \n",
      " 0   0                  55 non-null     float64\n",
      " 1   1                  55 non-null     float64\n",
      " 2   2                  55 non-null     float64\n",
      " 3   3                  55 non-null     float64\n",
      " 4   4                  55 non-null     float64\n",
      " 5   5                  55 non-null     float64\n",
      " 6   6                  55 non-null     float64\n",
      " 7   7                  55 non-null     float64\n",
      " 8   8                  55 non-null     float64\n",
      " 9   9                  55 non-null     float64\n",
      " 10  10                 55 non-null     float64\n",
      " 11  11                 55 non-null     float64\n",
      " 12  12                 55 non-null     float64\n",
      " 13  Predicted_Class    55 non-null     int64  \n",
      " 14  Actual_Popularity  55 non-null     int64  \n",
      "dtypes: float64(13), int64(2)\n",
      "memory usage: 6.9 KB\n"
     ]
    }
   ],
   "source": [
    "test_results[test_results['Predicted_Class'] == 1].info()"
   ]
  },
  {
   "cell_type": "code",
   "execution_count": 23,
   "metadata": {},
   "outputs": [
    {
     "name": "stdout",
     "output_type": "stream",
     "text": [
      "<class 'pandas.core.frame.DataFrame'>\n",
      "Index: 55 entries, 143 to 14205\n",
      "Data columns (total 15 columns):\n",
      " #   Column             Non-Null Count  Dtype  \n",
      "---  ------             --------------  -----  \n",
      " 0   0                  55 non-null     float64\n",
      " 1   1                  55 non-null     float64\n",
      " 2   2                  55 non-null     float64\n",
      " 3   3                  55 non-null     float64\n",
      " 4   4                  55 non-null     float64\n",
      " 5   5                  55 non-null     float64\n",
      " 6   6                  55 non-null     float64\n",
      " 7   7                  55 non-null     float64\n",
      " 8   8                  55 non-null     float64\n",
      " 9   9                  55 non-null     float64\n",
      " 10  10                 55 non-null     float64\n",
      " 11  11                 55 non-null     float64\n",
      " 12  12                 55 non-null     float64\n",
      " 13  Predicted_Class    55 non-null     int64  \n",
      " 14  Actual_Popularity  55 non-null     int64  \n",
      "dtypes: float64(13), int64(2)\n",
      "memory usage: 6.9 KB\n"
     ]
    }
   ],
   "source": [
    "filtered_results.info()"
   ]
  },
  {
   "cell_type": "code",
   "execution_count": 32,
   "metadata": {},
   "outputs": [
    {
     "data": {
      "text/plain": [
       "29"
      ]
     },
     "execution_count": 32,
     "metadata": {},
     "output_type": "execute_result"
    }
   ],
   "source": [
    "len(filtered_results[filtered_results['Actual_Popularity'] >= 70])"
   ]
  },
  {
   "cell_type": "code",
   "execution_count": 25,
   "metadata": {},
   "outputs": [],
   "source": [
    "def regression_accuracy(y_true, y_pred, tolerance=10):\n",
    "    \"\"\"\n",
    "    Calculates the percentage of predictions within a specified tolerance.\n",
    "    \n",
    "    Parameters:\n",
    "    - y_true: Actual target values\n",
    "    - y_pred: Predicted target values\n",
    "    - tolerance: The maximum allowable difference between actual and predicted values\n",
    "    \n",
    "    Returns:\n",
    "    - accuracy_percentage: Percentage of predictions within the tolerance\n",
    "    \"\"\"\n",
    "    correct_predictions = np.abs(y_true - y_pred) <= tolerance\n",
    "    accuracy_percentage = np.mean(correct_predictions) * 100\n",
    "    return accuracy_percentage\n",
    "\n",
    "# Define p_index_analysis function (if it is a custom function)\n",
    "def p_index_analysis(y_true, y_pred):\n",
    "    # Avoid division by zero\n",
    "    non_zero = y_true != 0\n",
    "    p_index = np.mean(np.abs(y_true[non_zero] - y_pred[non_zero]) / y_true[non_zero]) * 100\n",
    "    return p_index"
   ]
  },
  {
   "cell_type": "code",
   "execution_count": 26,
   "metadata": {},
   "outputs": [],
   "source": [
    "X = filtered_results.drop(['Predicted_Class', 'Actual_Popularity'], axis=1)\n",
    "Y = filtered_results['Actual_Popularity']"
   ]
  },
  {
   "cell_type": "code",
   "execution_count": 27,
   "metadata": {},
   "outputs": [
    {
     "name": "stdout",
     "output_type": "stream",
     "text": [
      "Test RMSE: 36.3999, Test MAE: 26.5042, Test MAPE: 58333993249787400.00%, Test R2: -0.1717, Test Accuracy: 18.18%, Test P Index: 449.81\n"
     ]
    }
   ],
   "source": [
    "reg = load('best_RandomForestRegressor.joblib')\n",
    "\n",
    "y_pred_final = reg.predict(X)\n",
    "\n",
    "rmse = np.sqrt(mean_squared_error(Y, y_pred_final))\n",
    "mae = mean_absolute_error(Y, y_pred_final)\n",
    "mape = mean_absolute_percentage_error(Y, y_pred_final)\n",
    "r2 = r2_score(Y, y_pred_final)\n",
    "accuracy = regression_accuracy(Y, y_pred_final, tolerance=5)\n",
    "p_index = p_index_analysis(Y, y_pred_final)\n",
    "\n",
    "print(f\"Test RMSE: {rmse:.4f}, Test MAE: {mae:.4f}, Test MAPE: {mape:.2f}%, Test R2: {r2:.4f}, Test Accuracy: {accuracy:.2f}%, Test P Index: {p_index:.2f}\")"
   ]
  },
  {
   "cell_type": "code",
   "execution_count": null,
   "metadata": {},
   "outputs": [],
   "source": []
  }
 ],
 "metadata": {
  "kernelspec": {
   "display_name": "pytorch",
   "language": "python",
   "name": "python3"
  },
  "language_info": {
   "codemirror_mode": {
    "name": "ipython",
    "version": 3
   },
   "file_extension": ".py",
   "mimetype": "text/x-python",
   "name": "python",
   "nbconvert_exporter": "python",
   "pygments_lexer": "ipython3",
   "version": "3.12.5"
  }
 },
 "nbformat": 4,
 "nbformat_minor": 2
}
